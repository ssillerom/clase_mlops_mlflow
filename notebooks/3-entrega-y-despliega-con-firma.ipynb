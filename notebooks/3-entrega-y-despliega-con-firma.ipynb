{
 "cells": [
  {
   "cell_type": "code",
   "execution_count": 0,
   "metadata": {
    "application/vnd.databricks.v1+cell": {
     "cellMetadata": {},
     "inputWidgets": {},
     "nuid": "24484518-ef28-46cb-8003-2f0ddd6bc7d1",
     "showTitle": false,
     "tableResultSettingsMap": {},
     "title": ""
    },
    "id": "j7ivoOt_bUhb"
   },
   "outputs": [],
   "source": [
    "!pip install mlflow --quiet\n",
    "dbutils.library.restartPython()"
   ]
  },
  {
   "cell_type": "code",
   "execution_count": 0,
   "metadata": {
    "application/vnd.databricks.v1+cell": {
     "cellMetadata": {},
     "inputWidgets": {},
     "nuid": "1c400d59-b9cc-4cba-8e6b-52a904156e06",
     "showTitle": false,
     "tableResultSettingsMap": {},
     "title": ""
    },
    "id": "bAgzD_rlbljD"
   },
   "outputs": [],
   "source": [
    "import mlflow\n",
    "email = ''\n",
    "mlflow.set_tracking_uri(\"databricks\")"
   ]
  },
  {
   "cell_type": "code",
   "execution_count": 0,
   "metadata": {
    "application/vnd.databricks.v1+cell": {
     "cellMetadata": {},
     "inputWidgets": {},
     "nuid": "e4738eab-d4e6-4a48-ba1e-1a7194bbc41e",
     "showTitle": false,
     "tableResultSettingsMap": {},
     "title": ""
    },
    "id": "86TJ69FOaKir"
   },
   "outputs": [],
   "source": [
    "import pandas as pd\n",
    "import matplotlib.pyplot as plt\n",
    "\n",
    "from sklearn.model_selection import train_test_split\n",
    "from sklearn.datasets import load_diabetes\n",
    "\n",
    "from sklearn.ensemble import RandomForestRegressor\n",
    "from sklearn.metrics import mean_squared_error\n",
    "\n",
    "from mlflow.models.signature import ModelSignature\n",
    "from mlflow.types.schema import Schema, ColSpec"
   ]
  },
  {
   "cell_type": "code",
   "execution_count": 0,
   "metadata": {
    "application/vnd.databricks.v1+cell": {
     "cellMetadata": {},
     "inputWidgets": {},
     "nuid": "56b014da-5280-43f5-9fa4-c5908fb38149",
     "showTitle": false,
     "tableResultSettingsMap": {},
     "title": ""
    },
    "id": "G9d1A8b4aKit"
   },
   "outputs": [],
   "source": [
    "# Dataset de diabetes\n",
    "dataset = load_diabetes()"
   ]
  },
  {
   "cell_type": "code",
   "execution_count": 0,
   "metadata": {
    "application/vnd.databricks.v1+cell": {
     "cellMetadata": {},
     "inputWidgets": {},
     "nuid": "e03ca481-883e-43f0-8432-9b5790658285",
     "showTitle": false,
     "tableResultSettingsMap": {},
     "title": ""
    },
    "id": "jysoEPq4aKit"
   },
   "outputs": [],
   "source": [
    "# Rapido split\n",
    "X = dataset.data\n",
    "y = dataset.target\n",
    "X_train, X_test, y_train, y_test = train_test_split(X, y)"
   ]
  },
  {
   "cell_type": "markdown",
   "metadata": {
    "application/vnd.databricks.v1+cell": {
     "cellMetadata": {},
     "inputWidgets": {},
     "nuid": "969f4412-a5cd-4f90-92b4-a5be6aab87ac",
     "showTitle": false,
     "tableResultSettingsMap": {},
     "title": ""
    },
    "id": "X-nOi5qmaKit"
   },
   "source": [
    "## Definición de Esquema de Entrada/Salida en MLflow\n",
    "\n",
    "En MLflow, es fundamental definir esquemas de entrada y salida para garantizar que los datos manejados por el modelo son consistentes y están en el formato esperado. Estos esquemas se visualizan en la interfaz de usuario de MLflow, facilitando la gestión y comprensión de los modelos.\n",
    "\n",
    "### Pasos para Definir Esquemas en MLflow\n",
    "\n",
    "1. **Desactivar Auto-guardado del Modelo:** Al guardar el modelo, usa `log_models=False` para desactivar el auto-guardado y permitir la especificación manual de esquemas.\n",
    "\n",
    "2. **Definir el Esquema de Entrada:**\n",
    "   - Utiliza `Schema([])` para crear un esquema.\n",
    "   - Incluye cada característica esperada por el modelo con su tipo de dato correspondiente (`double` en este ejemplo).\n",
    "   - Ejemplo:\n",
    "     ```python\n",
    "     input_schema = Schema([\n",
    "       ColSpec(\"double\", \"age\"),\n",
    "       ColSpec(\"double\", \"sex\"),\n",
    "       ColSpec(\"double\", \"bmi\"),\n",
    "       ColSpec(\"double\", \"bp\"),\n",
    "       // Continúa con las demás características\n",
    "     ])\n",
    "     ```\n",
    "\n",
    "3. **Definir el Esquema de Salida:**\n",
    "   - Define el formato y tipo de dato de la salida del modelo.\n",
    "   - Ejemplo:\n",
    "     ```python\n",
    "     output_schema = Schema([ColSpec(\"long\", \"objetivo\")])\n",
    "     ```\n",
    "\n",
    "4. **Crear la Firma del Modelo:**\n",
    "   - Combina los esquemas de entrada y salida.\n",
    "   - Ejemplo:\n",
    "     ```python\n",
    "     signature = ModelSignature(inputs=input_schema, outputs=output_schema)\n",
    "     ```\n",
    "\n",
    "### Importancia\n",
    "\n",
    "- **Validación de Datos:** Asegura que los datos de entrada y salida sean consistentes con lo esperado por el modelo.\n",
    "- **Facilita la Integración:** Los esquemas claros ayudan a integrar el modelo en sistemas de producción.\n",
    "- **Mejora la Fiabilidad:** Previene errores y mejora la confiabilidad del modelo.\n",
    "\n",
    "Con estos pasos, se puede establecer un proceso claro y estructurado para la definición de esquemas en modelos de MLflow, esencial para el manejo efectivo del ciclo de vida de modelos de machine learning.\n"
   ]
  },
  {
   "cell_type": "code",
   "execution_count": 0,
   "metadata": {
    "application/vnd.databricks.v1+cell": {
     "cellMetadata": {},
     "inputWidgets": {},
     "nuid": "3ecf4c1a-0e10-49a3-9eef-57ab3a037383",
     "showTitle": false,
     "tableResultSettingsMap": {},
     "title": ""
    },
    "id": "dCEwZr8zaKiu"
   },
   "outputs": [],
   "source": [
    "input_schema = Schema([\n",
    "  ColSpec(\"double\", \"age\"),\n",
    "  ColSpec(\"double\", \"sex\"),\n",
    "  ColSpec(\"double\", \"bmi\"),\n",
    "  ColSpec(\"double\", \"bp\"),\n",
    "  ColSpec(\"double\", \"s1\"),\n",
    "  ColSpec(\"double\", \"s2\"),\n",
    "  ColSpec(\"double\", \"s3\"),\n",
    "  ColSpec(\"double\", \"s4\"),\n",
    "  ColSpec(\"double\", \"s5\"),\n",
    "  ColSpec(\"double\", \"s6\"),\n",
    "])\n",
    "\n",
    "output_schema = Schema([ColSpec(\"long\", \"target\")])\n",
    "signature = ModelSignature(inputs=input_schema, outputs=output_schema)"
   ]
  },
  {
   "cell_type": "code",
   "execution_count": 0,
   "metadata": {
    "application/vnd.databricks.v1+cell": {
     "cellMetadata": {},
     "inputWidgets": {},
     "nuid": "804a248d-5dd4-41da-8215-7823a2bf4cd0",
     "showTitle": false,
     "tableResultSettingsMap": {},
     "title": ""
    },
    "colab": {
     "base_uri": "https://localhost:8080/",
     "height": 576,
     "referenced_widgets": [
      "9d4b2eb97cfa49c5b4e5ddceefbf80d8",
      "a3674cf87e6d4d088d1e6c38e761c4e9",
      "ee4e5b24bb1c4f5299b67852eb9d0a68",
      "0fe77d0fc30f482ca05da41593a037c5",
      "d4ea1acc04764b0495396ee99ec53455",
      "9d7862c2f1df4f2aac7fba3b72dd85fb",
      "ea1279be1ed7401d9321f5e687eda65d",
      "3dbff9ee4d964694a1067987af7fcff7",
      "ac7cf91a400c44c69757e62a9b50399e",
      "dd7aa0f8fea74dc68849e9f6322f043f",
      "73a66a4e67334e4485b53d8fd8113102"
     ]
    },
    "id": "i_sBopJGaKiu",
    "outputId": "a96bdee7-be74-4a30-94ae-9ca5426960f8"
   },
   "outputs": [],
   "source": [
    "# La forma recomendada de comenzar a usar el seguimiento de MLflow con Python es usar la API autolog() de MLflow.\n",
    "# Con las capacidades de autologging de MLflow, una sola línea de código registra automáticamente el modelo resultante,\n",
    "# los parámetros utilizados para crear el modelo y una puntuación del modelo.\n",
    "mlflow.sklearn.autolog(log_models=False)\n",
    "\n",
    "# Esta vez usaremos un experimento específico\n",
    "# Si usas Databricks, el nombre debe ser una ruta de sistema de archivos, así que usa un / antes del nombre\n",
    "mlflow.set_experiment(f\"/Users/{email}/3-entrega-y-despliega-con-firma\")\n",
    "\n",
    "# Con autolog() activado, todos los parámetros del modelo, una puntuación del modelo y el modelo ajustado se registran automáticamente.\n",
    "# También es posible pasar un nombre de ejecución como mlflow.start_run(run_name=\"Mi ejecución increíble\"), de lo contrario MLflow elegirá uno por nosotros.\n",
    "with mlflow.start_run():\n",
    "  # Establece los parámetros del modelo.\n",
    "  n_estimators = 10\n",
    "  max_depth = 5\n",
    "  max_features = 3\n",
    "\n",
    "  # Crea y entrena el modelo.\n",
    "  rf = RandomForestRegressor(n_estimators = n_estimators, max_depth = max_depth, max_features = max_features)\n",
    "  rf.fit(X_train, y_train)\n",
    "\n",
    "  # Usa el modelo para hacer predicciones en el conjunto de datos de prueba.\n",
    "  predictions = rf.predict(X_test)\n",
    "\n",
    "  # Registra los parámetros del modelo utilizados en esta ejecución.\n",
    "  mlflow.log_param(\"num_trees\", n_estimators)\n",
    "  mlflow.log_param(\"maxdepth\", max_depth)\n",
    "  mlflow.log_param(\"max_feat\", max_features)\n",
    "\n",
    "  # Define una métrica para evaluar el modelo.\n",
    "  mse = mean_squared_error(y_test, predictions)\n",
    "\n",
    "  # Registra el valor de la métrica de esta ejecución.\n",
    "  mlflow.log_metric(\"mse\", mse)\n",
    "\n",
    "  # Incluso podemos registrar explícitamente el modelo creado en esta ejecución con su firma\n",
    "  mlflow.sklearn.log_model(rf, \"model\", signature=signature)\n",
    "\n",
    "  # Convierte los residuales en un dataframe de pandas para aprovechar las capacidades gráficas\n",
    "  df = pd.DataFrame(data = predictions - y_test)\n",
    "  # Crea un gráfico de residuales\n",
    "  plt.plot(df)\n",
    "  plt.xlabel(\"Observation\")\n",
    "  plt.ylabel(\"Residual\")\n",
    "  plt.title(\"Residuals\")\n",
    "\n",
    "  # Guarda la figura del gráfico\n",
    "  fig = plt.gcf()\n",
    "  mlflow.log_figure(fig, \"residuals_plot.png\")\n",
    "\n",
    "mlflow.end_run()\n"
   ]
  }
 ],
 "metadata": {
  "application/vnd.databricks.v1+notebook": {
   "computePreferences": null,
   "dashboards": [],
   "environmentMetadata": null,
   "language": "python",
   "notebookMetadata": {
    "pythonIndentUnit": 4
   },
   "notebookName": "3-entrega-y-despliega-con-firma",
   "widgets": {}
  },
  "colab": {
   "provenance": []
  },
  "kernelspec": {
   "display_name": "Python 3 (ipykernel)",
   "language": "python",
   "name": "python3"
  },
  "language_info": {
   "name": "python"
  },
  "widgets": {
   "application/vnd.jupyter.widget-state+json": {
    "0fe77d0fc30f482ca05da41593a037c5": {
     "model_module": "@jupyter-widgets/controls",
     "model_module_version": "1.5.0",
     "model_name": "HTMLModel",
     "state": {
      "_dom_classes": [],
      "_model_module": "@jupyter-widgets/controls",
      "_model_module_version": "1.5.0",
      "_model_name": "HTMLModel",
      "_view_count": null,
      "_view_module": "@jupyter-widgets/controls",
      "_view_module_version": "1.5.0",
      "_view_name": "HTMLView",
      "description": "",
      "description_tooltip": null,
      "layout": "IPY_MODEL_dd7aa0f8fea74dc68849e9f6322f043f",
      "placeholder": "​",
      "style": "IPY_MODEL_73a66a4e67334e4485b53d8fd8113102",
      "value": " 9/9 [00:00&lt;00:00,  1.65it/s]"
     }
    },
    "3dbff9ee4d964694a1067987af7fcff7": {
     "model_module": "@jupyter-widgets/base",
     "model_module_version": "1.2.0",
     "model_name": "LayoutModel",
     "state": {
      "_model_module": "@jupyter-widgets/base",
      "_model_module_version": "1.2.0",
      "_model_name": "LayoutModel",
      "_view_count": null,
      "_view_module": "@jupyter-widgets/base",
      "_view_module_version": "1.2.0",
      "_view_name": "LayoutView",
      "align_content": null,
      "align_items": null,
      "align_self": null,
      "border": null,
      "bottom": null,
      "display": null,
      "flex": null,
      "flex_flow": null,
      "grid_area": null,
      "grid_auto_columns": null,
      "grid_auto_flow": null,
      "grid_auto_rows": null,
      "grid_column": null,
      "grid_gap": null,
      "grid_row": null,
      "grid_template_areas": null,
      "grid_template_columns": null,
      "grid_template_rows": null,
      "height": null,
      "justify_content": null,
      "justify_items": null,
      "left": null,
      "margin": null,
      "max_height": null,
      "max_width": null,
      "min_height": null,
      "min_width": null,
      "object_fit": null,
      "object_position": null,
      "order": null,
      "overflow": null,
      "overflow_x": null,
      "overflow_y": null,
      "padding": null,
      "right": null,
      "top": null,
      "visibility": null,
      "width": null
     }
    },
    "73a66a4e67334e4485b53d8fd8113102": {
     "model_module": "@jupyter-widgets/controls",
     "model_module_version": "1.5.0",
     "model_name": "DescriptionStyleModel",
     "state": {
      "_model_module": "@jupyter-widgets/controls",
      "_model_module_version": "1.5.0",
      "_model_name": "DescriptionStyleModel",
      "_view_count": null,
      "_view_module": "@jupyter-widgets/base",
      "_view_module_version": "1.2.0",
      "_view_name": "StyleView",
      "description_width": ""
     }
    },
    "9d4b2eb97cfa49c5b4e5ddceefbf80d8": {
     "model_module": "@jupyter-widgets/controls",
     "model_module_version": "1.5.0",
     "model_name": "HBoxModel",
     "state": {
      "_dom_classes": [],
      "_model_module": "@jupyter-widgets/controls",
      "_model_module_version": "1.5.0",
      "_model_name": "HBoxModel",
      "_view_count": null,
      "_view_module": "@jupyter-widgets/controls",
      "_view_module_version": "1.5.0",
      "_view_name": "HBoxView",
      "box_style": "",
      "children": [
       "IPY_MODEL_a3674cf87e6d4d088d1e6c38e761c4e9",
       "IPY_MODEL_ee4e5b24bb1c4f5299b67852eb9d0a68",
       "IPY_MODEL_0fe77d0fc30f482ca05da41593a037c5"
      ],
      "layout": "IPY_MODEL_d4ea1acc04764b0495396ee99ec53455"
     }
    },
    "9d7862c2f1df4f2aac7fba3b72dd85fb": {
     "model_module": "@jupyter-widgets/base",
     "model_module_version": "1.2.0",
     "model_name": "LayoutModel",
     "state": {
      "_model_module": "@jupyter-widgets/base",
      "_model_module_version": "1.2.0",
      "_model_name": "LayoutModel",
      "_view_count": null,
      "_view_module": "@jupyter-widgets/base",
      "_view_module_version": "1.2.0",
      "_view_name": "LayoutView",
      "align_content": null,
      "align_items": null,
      "align_self": null,
      "border": null,
      "bottom": null,
      "display": null,
      "flex": null,
      "flex_flow": null,
      "grid_area": null,
      "grid_auto_columns": null,
      "grid_auto_flow": null,
      "grid_auto_rows": null,
      "grid_column": null,
      "grid_gap": null,
      "grid_row": null,
      "grid_template_areas": null,
      "grid_template_columns": null,
      "grid_template_rows": null,
      "height": null,
      "justify_content": null,
      "justify_items": null,
      "left": null,
      "margin": null,
      "max_height": null,
      "max_width": null,
      "min_height": null,
      "min_width": null,
      "object_fit": null,
      "object_position": null,
      "order": null,
      "overflow": null,
      "overflow_x": null,
      "overflow_y": null,
      "padding": null,
      "right": null,
      "top": null,
      "visibility": null,
      "width": null
     }
    },
    "a3674cf87e6d4d088d1e6c38e761c4e9": {
     "model_module": "@jupyter-widgets/controls",
     "model_module_version": "1.5.0",
     "model_name": "HTMLModel",
     "state": {
      "_dom_classes": [],
      "_model_module": "@jupyter-widgets/controls",
      "_model_module_version": "1.5.0",
      "_model_name": "HTMLModel",
      "_view_count": null,
      "_view_module": "@jupyter-widgets/controls",
      "_view_module_version": "1.5.0",
      "_view_name": "HTMLView",
      "description": "",
      "description_tooltip": null,
      "layout": "IPY_MODEL_9d7862c2f1df4f2aac7fba3b72dd85fb",
      "placeholder": "​",
      "style": "IPY_MODEL_ea1279be1ed7401d9321f5e687eda65d",
      "value": "Uploading artifacts: 100%"
     }
    },
    "ac7cf91a400c44c69757e62a9b50399e": {
     "model_module": "@jupyter-widgets/controls",
     "model_module_version": "1.5.0",
     "model_name": "ProgressStyleModel",
     "state": {
      "_model_module": "@jupyter-widgets/controls",
      "_model_module_version": "1.5.0",
      "_model_name": "ProgressStyleModel",
      "_view_count": null,
      "_view_module": "@jupyter-widgets/base",
      "_view_module_version": "1.2.0",
      "_view_name": "StyleView",
      "bar_color": null,
      "description_width": ""
     }
    },
    "d4ea1acc04764b0495396ee99ec53455": {
     "model_module": "@jupyter-widgets/base",
     "model_module_version": "1.2.0",
     "model_name": "LayoutModel",
     "state": {
      "_model_module": "@jupyter-widgets/base",
      "_model_module_version": "1.2.0",
      "_model_name": "LayoutModel",
      "_view_count": null,
      "_view_module": "@jupyter-widgets/base",
      "_view_module_version": "1.2.0",
      "_view_name": "LayoutView",
      "align_content": null,
      "align_items": null,
      "align_self": null,
      "border": null,
      "bottom": null,
      "display": null,
      "flex": null,
      "flex_flow": null,
      "grid_area": null,
      "grid_auto_columns": null,
      "grid_auto_flow": null,
      "grid_auto_rows": null,
      "grid_column": null,
      "grid_gap": null,
      "grid_row": null,
      "grid_template_areas": null,
      "grid_template_columns": null,
      "grid_template_rows": null,
      "height": null,
      "justify_content": null,
      "justify_items": null,
      "left": null,
      "margin": null,
      "max_height": null,
      "max_width": null,
      "min_height": null,
      "min_width": null,
      "object_fit": null,
      "object_position": null,
      "order": null,
      "overflow": null,
      "overflow_x": null,
      "overflow_y": null,
      "padding": null,
      "right": null,
      "top": null,
      "visibility": null,
      "width": null
     }
    },
    "dd7aa0f8fea74dc68849e9f6322f043f": {
     "model_module": "@jupyter-widgets/base",
     "model_module_version": "1.2.0",
     "model_name": "LayoutModel",
     "state": {
      "_model_module": "@jupyter-widgets/base",
      "_model_module_version": "1.2.0",
      "_model_name": "LayoutModel",
      "_view_count": null,
      "_view_module": "@jupyter-widgets/base",
      "_view_module_version": "1.2.0",
      "_view_name": "LayoutView",
      "align_content": null,
      "align_items": null,
      "align_self": null,
      "border": null,
      "bottom": null,
      "display": null,
      "flex": null,
      "flex_flow": null,
      "grid_area": null,
      "grid_auto_columns": null,
      "grid_auto_flow": null,
      "grid_auto_rows": null,
      "grid_column": null,
      "grid_gap": null,
      "grid_row": null,
      "grid_template_areas": null,
      "grid_template_columns": null,
      "grid_template_rows": null,
      "height": null,
      "justify_content": null,
      "justify_items": null,
      "left": null,
      "margin": null,
      "max_height": null,
      "max_width": null,
      "min_height": null,
      "min_width": null,
      "object_fit": null,
      "object_position": null,
      "order": null,
      "overflow": null,
      "overflow_x": null,
      "overflow_y": null,
      "padding": null,
      "right": null,
      "top": null,
      "visibility": null,
      "width": null
     }
    },
    "ea1279be1ed7401d9321f5e687eda65d": {
     "model_module": "@jupyter-widgets/controls",
     "model_module_version": "1.5.0",
     "model_name": "DescriptionStyleModel",
     "state": {
      "_model_module": "@jupyter-widgets/controls",
      "_model_module_version": "1.5.0",
      "_model_name": "DescriptionStyleModel",
      "_view_count": null,
      "_view_module": "@jupyter-widgets/base",
      "_view_module_version": "1.2.0",
      "_view_name": "StyleView",
      "description_width": ""
     }
    },
    "ee4e5b24bb1c4f5299b67852eb9d0a68": {
     "model_module": "@jupyter-widgets/controls",
     "model_module_version": "1.5.0",
     "model_name": "FloatProgressModel",
     "state": {
      "_dom_classes": [],
      "_model_module": "@jupyter-widgets/controls",
      "_model_module_version": "1.5.0",
      "_model_name": "FloatProgressModel",
      "_view_count": null,
      "_view_module": "@jupyter-widgets/controls",
      "_view_module_version": "1.5.0",
      "_view_name": "ProgressView",
      "bar_style": "success",
      "description": "",
      "description_tooltip": null,
      "layout": "IPY_MODEL_3dbff9ee4d964694a1067987af7fcff7",
      "max": 9,
      "min": 0,
      "orientation": "horizontal",
      "style": "IPY_MODEL_ac7cf91a400c44c69757e62a9b50399e",
      "value": 9
     }
    }
   }
  }
 },
 "nbformat": 4,
 "nbformat_minor": 0
}
