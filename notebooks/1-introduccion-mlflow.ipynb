{
 "cells": [
  {
   "cell_type": "code",
   "execution_count": 0,
   "metadata": {
    "application/vnd.databricks.v1+cell": {
     "cellMetadata": {},
     "inputWidgets": {},
     "nuid": "4df058c1-a16c-4b4d-82de-480d91e1f779",
     "showTitle": false,
     "tableResultSettingsMap": {},
     "title": ""
    }
   },
   "outputs": [],
   "source": [
    "!pip install mlflow --quiet\n",
    "dbutils.library.restartPython()"
   ]
  },
  {
   "cell_type": "markdown",
   "metadata": {
    "application/vnd.databricks.v1+cell": {
     "cellMetadata": {},
     "inputWidgets": {},
     "nuid": "ca06e031-c96e-47f7-8449-55a09067a295",
     "showTitle": false,
     "tableResultSettingsMap": {},
     "title": ""
    },
    "id": "5UoPUs70jbcn"
   },
   "source": [
    "# Resumen del Uso de MLflow para Registro de Experimentos\n",
    "\n",
    "Este código ilustra cómo utilizar MLflow, una herramienta esencial para la gestión del ciclo de vida del machine learning, para registrar varios componentes de un experimento:\n",
    "\n",
    "### Funcionalidades Utilizadas\n",
    "\n",
    "- **Registro de Parámetros**: `mlflow.log_param` se emplea para registrar parámetros clave-valor, que son esenciales para la configuración del experimento.\n",
    "\n",
    "- **Registro de Métricas**: `mlflow.log_metric` permite registrar y actualizar métricas a lo largo del experimento. Estas métricas son cruciales para evaluar el rendimiento del modelo.\n",
    "\n",
    "- **Registro de Artefactos**: `mlflow.log_artifact` se usa para registrar archivos como artefactos. Estos pueden ser archivos de texto, imágenes, modelos entrenados, etc., y son importantes para la reproducibilidad y el análisis post-experimento.\n",
    "\n",
    "### Ejemplo de Código\n",
    "\n",
    "```python\n",
    "# Registrar un parámetro (clave-valor)\n",
    "mlflow.log_param(\"param1\", randint(0, 100))\n",
    "\n",
    "# Registrar una métrica; las métricas pueden actualizarse durante la ejecución\n",
    "mlflow.log_metric(\"foo\", random())\n",
    "mlflow.log_metric(\"foo\", random() + 1)\n",
    "mlflow.log_metric(\"foo\", random() + 2)\n",
    "\n",
    "# Registrar un artefacto, un simple archivo de texto\n",
    "mlflow.log_artifact(\"artifacts/text_file.txt\")\n",
    "\n",
    "# Registrar una imagen como artefacto\n",
    "mlflow.log_artifact(\"artifacts/kitten.jpg\")\n"
   ]
  },
  {
   "cell_type": "code",
   "execution_count": 0,
   "metadata": {
    "application/vnd.databricks.v1+cell": {
     "cellMetadata": {
      "byteLimit": 2048000,
      "rowLimit": 10000
     },
     "inputWidgets": {},
     "nuid": "fe30cdf8-712a-48ab-9058-92017662f94c",
     "showTitle": false,
     "tableResultSettingsMap": {},
     "title": ""
    },
    "id": "zZ4KZigdjbco"
   },
   "outputs": [],
   "source": [
    "from random import randint, random\n",
    "import mlflow\n",
    "\n",
    "email = 's.sillerom@gmail.com'\n",
    "mlflow.set_experiment(f\"/Users/{email}/1-introduccion-mlflow\")\n",
    "mlflow.start_run()"
   ]
  },
  {
   "cell_type": "code",
   "execution_count": 0,
   "metadata": {
    "application/vnd.databricks.v1+cell": {
     "cellMetadata": {
      "byteLimit": 2048000,
      "rowLimit": 10000
     },
     "inputWidgets": {},
     "nuid": "0b4151fb-428b-482c-bafe-f5a8639912aa",
     "showTitle": false,
     "tableResultSettingsMap": {},
     "title": ""
    },
    "id": "QxJX26G4jbco"
   },
   "outputs": [],
   "source": [
    "# Registrar un parámetro (clave-valor)\n",
    "mlflow.log_param(\"param1\", randint(0, 100))\n",
    "\n",
    "# Registrar una métrica; las métricas pueden actualizarse durante la ejecución\n",
    "mlflow.log_metric(\"foo\", random())\n",
    "mlflow.log_metric(\"foo\", random() + 1)\n",
    "mlflow.log_metric(\"foo\", random() + 2)\n",
    "\n",
    "# Registrar un artefacto, un simple archivo de texto\n",
    "mlflow.log_artifact(f\"/Workspace/Users/{email}/clase_mlops_mlflow/notebooks/artifacts/kitten.jpg\")\n",
    "\n",
    "# Registrar una imagen\n",
    "mlflow.log_artifact(\"/Workspace/Users/s.sillerom@gmail.com/clase_mlops_mlflow/notebooks/artifacts/kitten.jpg\")"
   ]
  },
  {
   "cell_type": "code",
   "execution_count": 0,
   "metadata": {
    "application/vnd.databricks.v1+cell": {
     "cellMetadata": {
      "byteLimit": 2048000,
      "rowLimit": 10000
     },
     "inputWidgets": {},
     "nuid": "c4348c60-894d-4053-b265-9b46eafee50b",
     "showTitle": false,
     "tableResultSettingsMap": {},
     "title": ""
    },
    "id": "uXcOUq7UrUYa"
   },
   "outputs": [],
   "source": [
    "mlflow.end_run()"
   ]
  }
 ],
 "metadata": {
  "application/vnd.databricks.v1+notebook": {
   "computePreferences": null,
   "dashboards": [],
   "environmentMetadata": null,
   "language": "python",
   "notebookMetadata": {
    "pythonIndentUnit": 4
   },
   "notebookName": "1-introduccion-mlflow",
   "widgets": {}
  },
  "colab": {
   "provenance": []
  },
  "kernelspec": {
   "display_name": "Python 3 (ipykernel)",
   "language": "python",
   "name": "python3"
  },
  "language_info": {
   "name": "python"
  }
 },
 "nbformat": 4,
 "nbformat_minor": 0
}
