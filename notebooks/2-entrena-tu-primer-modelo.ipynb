{
 "cells": [
  {
   "cell_type": "code",
   "execution_count": 0,
   "metadata": {
    "application/vnd.databricks.v1+cell": {
     "cellMetadata": {
      "byteLimit": 2048000,
      "rowLimit": 10000
     },
     "inputWidgets": {},
     "nuid": "b09506db-8bcd-4a82-9ba5-27b6f4f180ae",
     "showTitle": false,
     "tableResultSettingsMap": {},
     "title": ""
    },
    "id": "r0DfbW1OWpgU"
   },
   "outputs": [],
   "source": [
    "!pip install mlflow --quiet\n",
    "dbutils.library.restartPython()"
   ]
  },
  {
   "cell_type": "code",
   "execution_count": 0,
   "metadata": {
    "application/vnd.databricks.v1+cell": {
     "cellMetadata": {
      "byteLimit": 2048000,
      "rowLimit": 10000
     },
     "inputWidgets": {},
     "nuid": "3487ff7e-ddda-4a74-9449-2f366951a07f",
     "showTitle": false,
     "tableResultSettingsMap": {},
     "title": ""
    },
    "id": "qQqAgC1QWuND"
   },
   "outputs": [],
   "source": [
    "import mlflow\n",
    "email = 's.sillerom@gmail.com'\n",
    "mlflow.set_experiment(f\"/Users/{email}/2-entrena-tu-primer-modelo\")"
   ]
  },
  {
   "cell_type": "code",
   "execution_count": 0,
   "metadata": {
    "application/vnd.databricks.v1+cell": {
     "cellMetadata": {
      "byteLimit": 2048000,
      "rowLimit": 10000
     },
     "inputWidgets": {},
     "nuid": "860da27f-9a6a-44df-8d82-6ad3e0fa737c",
     "showTitle": false,
     "tableResultSettingsMap": {},
     "title": ""
    },
    "id": "a--N-dykWmaA"
   },
   "outputs": [],
   "source": [
    "import pandas as pd\n",
    "import matplotlib.pyplot as plt\n",
    "\n",
    "from sklearn.model_selection import train_test_split\n",
    "from sklearn.datasets import load_diabetes\n",
    "\n",
    "from sklearn.ensemble import RandomForestRegressor\n",
    "from sklearn.metrics import mean_squared_error"
   ]
  },
  {
   "cell_type": "code",
   "execution_count": 0,
   "metadata": {
    "application/vnd.databricks.v1+cell": {
     "cellMetadata": {
      "byteLimit": 2048000,
      "rowLimit": 10000
     },
     "inputWidgets": {},
     "nuid": "74d2200b-8a86-47db-bd45-13f5d8dc195f",
     "showTitle": false,
     "tableResultSettingsMap": {},
     "title": ""
    },
    "id": "UBjACgKNWmaD"
   },
   "outputs": [],
   "source": [
    "# Vamos a cargar un dataset de juguete para mostrar la creación y entrenamiento basado en experimentos\n",
    "dataset = load_diabetes()"
   ]
  },
  {
   "cell_type": "code",
   "execution_count": 0,
   "metadata": {
    "application/vnd.databricks.v1+cell": {
     "cellMetadata": {
      "byteLimit": 2048000,
      "rowLimit": 10000
     },
     "inputWidgets": {},
     "nuid": "ee1a95d9-cd5a-4dc5-bddb-b2ed8bf05b3c",
     "showTitle": false,
     "tableResultSettingsMap": {},
     "title": ""
    },
    "id": "ujtZcRsMWmaD"
   },
   "outputs": [],
   "source": [
    "# Vamos a hacer un split rápido del dataset\n",
    "X = dataset.data\n",
    "y = dataset.target\n",
    "X_train, X_test, y_train, y_test = train_test_split(X, y)"
   ]
  },
  {
   "cell_type": "code",
   "execution_count": 0,
   "metadata": {
    "application/vnd.databricks.v1+cell": {
     "cellMetadata": {
      "byteLimit": 2048000,
      "rowLimit": 10000
     },
     "inputWidgets": {},
     "nuid": "5068d5a7-50b9-4699-b60b-9ba6fbd97bbe",
     "showTitle": false,
     "tableResultSettingsMap": {},
     "title": ""
    },
    "colab": {
     "base_uri": "https://localhost:8080/",
     "height": 559,
     "referenced_widgets": [
      "b1e290d058e14f2888e4ef53fc2f107f",
      "6ff05f8bddb54c63ba652d3f21d5f1f4",
      "716b4dae840a4e8bbc37cdde1743e1d6",
      "c632d4a429d541b0ac4ea186354823d0",
      "15eeb44e92fd454dabb4061db735f0cc",
      "cc2f9c86e2d24a45a641007eae39bfb5",
      "a9d156991bc04cfd935a07f45720f5c4",
      "87270fb5dab6420abea8ae69401ef219",
      "a131a9215e884eaf95793d06dba55bc1",
      "4d77d4aaed204dc19b6ed2174e21496a",
      "1d46acef6ecd4f8ca23eaae04e3f1cc0"
     ]
    },
    "id": "EHPpaKB1WmaE",
    "outputId": "fbd449ba-30d5-4723-f5df-cac3c6af2253"
   },
   "outputs": [],
   "source": [
    "# La forma recomendada de empezar a usar el seguimiento de MLflow con Python es usar la API autolog() de MLflow.\n",
    "# Con las capacidades de autoregistro de MLflow, una sola línea de código registra automáticamente el modelo resultante, los parámetros usados para crear el modelo y una puntuación del modelo.\n",
    "mlflow.sklearn.autolog()\n",
    "\n",
    "# Con autolog() activado, todos los parámetros del modelo, una puntuación del modelo y el modelo ajustado se registran automáticamente.\n",
    "# También es posible pasar un nombre de ejecución como mlflow.start_run(run_name=\"Mi increíble ejecución\"), de lo contrario, MLflow elegirá uno por nosotros.\n",
    "with mlflow.start_run():\n",
    "  # Establecer los parámetros del modelo.\n",
    "  n_estimators = 100\n",
    "  max_depth = 6\n",
    "  max_features = 3\n",
    "\n",
    "  # Crear y entrenar el modelo.\n",
    "  rf = RandomForestRegressor(n_estimators = n_estimators, max_depth = max_depth, max_features = max_features)\n",
    "  rf.fit(X_train, y_train)\n",
    "\n",
    "  # Usar el modelo para hacer predicciones en el conjunto de datos de prueba.\n",
    "  predictions = rf.predict(X_test)\n",
    "\n",
    "  # Registrar los parámetros del modelo utilizados en esta ejecución.\n",
    "  mlflow.log_param(\"num_trees\", n_estimators)\n",
    "  mlflow.log_param(\"maxdepth\", max_depth)\n",
    "  mlflow.log_param(\"max_feat\", max_features)\n",
    "\n",
    "  # Definir una métrica para evaluar el modelo.\n",
    "  mse = mean_squared_error(y_test, predictions)\n",
    "\n",
    "  # Registrar el valor de la métrica de esta ejecución.\n",
    "  mlflow.log_metric(\"mse\", mse)\n",
    "\n",
    "  # Convertir los residuos en un dataframe de pandas para aprovechar las capacidades gráficas\n",
    "  df = pd.DataFrame(data = predictions - y_test)\n",
    "  # Crear un gráfico de residuos\n",
    "  plt.plot(df)\n",
    "  plt.xlabel(\"Observación\")\n",
    "  plt.ylabel(\"Residual\")\n",
    "  plt.title(\"Residuos\")\n",
    "\n",
    "  # Guardar la figura del gráfico\n",
    "  fig = plt.gcf()\n",
    "  mlflow.log_figure(fig, \"residuals_plot.png\")\n",
    "\n",
    "mlflow.end_run()"
   ]
  }
 ],
 "metadata": {
  "application/vnd.databricks.v1+notebook": {
   "computePreferences": null,
   "dashboards": [],
   "environmentMetadata": null,
   "language": "python",
   "notebookMetadata": {
    "pythonIndentUnit": 4
   },
   "notebookName": "2-entrena-tu-primer-modelo",
   "widgets": {}
  },
  "colab": {
   "provenance": []
  },
  "kernelspec": {
   "display_name": "Python 3 (ipykernel)",
   "language": "python",
   "name": "python3"
  },
  "language_info": {
   "name": "python"
  },
  "widgets": {
   "application/vnd.jupyter.widget-state+json": {
    "15eeb44e92fd454dabb4061db735f0cc": {
     "model_module": "@jupyter-widgets/base",
     "model_module_version": "1.2.0",
     "model_name": "LayoutModel",
     "state": {
      "_model_module": "@jupyter-widgets/base",
      "_model_module_version": "1.2.0",
      "_model_name": "LayoutModel",
      "_view_count": null,
      "_view_module": "@jupyter-widgets/base",
      "_view_module_version": "1.2.0",
      "_view_name": "LayoutView",
      "align_content": null,
      "align_items": null,
      "align_self": null,
      "border": null,
      "bottom": null,
      "display": null,
      "flex": null,
      "flex_flow": null,
      "grid_area": null,
      "grid_auto_columns": null,
      "grid_auto_flow": null,
      "grid_auto_rows": null,
      "grid_column": null,
      "grid_gap": null,
      "grid_row": null,
      "grid_template_areas": null,
      "grid_template_columns": null,
      "grid_template_rows": null,
      "height": null,
      "justify_content": null,
      "justify_items": null,
      "left": null,
      "margin": null,
      "max_height": null,
      "max_width": null,
      "min_height": null,
      "min_width": null,
      "object_fit": null,
      "object_position": null,
      "order": null,
      "overflow": null,
      "overflow_x": null,
      "overflow_y": null,
      "padding": null,
      "right": null,
      "top": null,
      "visibility": null,
      "width": null
     }
    },
    "1d46acef6ecd4f8ca23eaae04e3f1cc0": {
     "model_module": "@jupyter-widgets/controls",
     "model_module_version": "1.5.0",
     "model_name": "DescriptionStyleModel",
     "state": {
      "_model_module": "@jupyter-widgets/controls",
      "_model_module_version": "1.5.0",
      "_model_name": "DescriptionStyleModel",
      "_view_count": null,
      "_view_module": "@jupyter-widgets/base",
      "_view_module_version": "1.2.0",
      "_view_name": "StyleView",
      "description_width": ""
     }
    },
    "4d77d4aaed204dc19b6ed2174e21496a": {
     "model_module": "@jupyter-widgets/base",
     "model_module_version": "1.2.0",
     "model_name": "LayoutModel",
     "state": {
      "_model_module": "@jupyter-widgets/base",
      "_model_module_version": "1.2.0",
      "_model_name": "LayoutModel",
      "_view_count": null,
      "_view_module": "@jupyter-widgets/base",
      "_view_module_version": "1.2.0",
      "_view_name": "LayoutView",
      "align_content": null,
      "align_items": null,
      "align_self": null,
      "border": null,
      "bottom": null,
      "display": null,
      "flex": null,
      "flex_flow": null,
      "grid_area": null,
      "grid_auto_columns": null,
      "grid_auto_flow": null,
      "grid_auto_rows": null,
      "grid_column": null,
      "grid_gap": null,
      "grid_row": null,
      "grid_template_areas": null,
      "grid_template_columns": null,
      "grid_template_rows": null,
      "height": null,
      "justify_content": null,
      "justify_items": null,
      "left": null,
      "margin": null,
      "max_height": null,
      "max_width": null,
      "min_height": null,
      "min_width": null,
      "object_fit": null,
      "object_position": null,
      "order": null,
      "overflow": null,
      "overflow_x": null,
      "overflow_y": null,
      "padding": null,
      "right": null,
      "top": null,
      "visibility": null,
      "width": null
     }
    },
    "6ff05f8bddb54c63ba652d3f21d5f1f4": {
     "model_module": "@jupyter-widgets/controls",
     "model_module_version": "1.5.0",
     "model_name": "HTMLModel",
     "state": {
      "_dom_classes": [],
      "_model_module": "@jupyter-widgets/controls",
      "_model_module_version": "1.5.0",
      "_model_name": "HTMLModel",
      "_view_count": null,
      "_view_module": "@jupyter-widgets/controls",
      "_view_module_version": "1.5.0",
      "_view_name": "HTMLView",
      "description": "",
      "description_tooltip": null,
      "layout": "IPY_MODEL_cc2f9c86e2d24a45a641007eae39bfb5",
      "placeholder": "​",
      "style": "IPY_MODEL_a9d156991bc04cfd935a07f45720f5c4",
      "value": "Uploading artifacts: 100%"
     }
    },
    "716b4dae840a4e8bbc37cdde1743e1d6": {
     "model_module": "@jupyter-widgets/controls",
     "model_module_version": "1.5.0",
     "model_name": "FloatProgressModel",
     "state": {
      "_dom_classes": [],
      "_model_module": "@jupyter-widgets/controls",
      "_model_module_version": "1.5.0",
      "_model_name": "FloatProgressModel",
      "_view_count": null,
      "_view_module": "@jupyter-widgets/controls",
      "_view_module_version": "1.5.0",
      "_view_name": "ProgressView",
      "bar_style": "success",
      "description": "",
      "description_tooltip": null,
      "layout": "IPY_MODEL_87270fb5dab6420abea8ae69401ef219",
      "max": 9,
      "min": 0,
      "orientation": "horizontal",
      "style": "IPY_MODEL_a131a9215e884eaf95793d06dba55bc1",
      "value": 9
     }
    },
    "87270fb5dab6420abea8ae69401ef219": {
     "model_module": "@jupyter-widgets/base",
     "model_module_version": "1.2.0",
     "model_name": "LayoutModel",
     "state": {
      "_model_module": "@jupyter-widgets/base",
      "_model_module_version": "1.2.0",
      "_model_name": "LayoutModel",
      "_view_count": null,
      "_view_module": "@jupyter-widgets/base",
      "_view_module_version": "1.2.0",
      "_view_name": "LayoutView",
      "align_content": null,
      "align_items": null,
      "align_self": null,
      "border": null,
      "bottom": null,
      "display": null,
      "flex": null,
      "flex_flow": null,
      "grid_area": null,
      "grid_auto_columns": null,
      "grid_auto_flow": null,
      "grid_auto_rows": null,
      "grid_column": null,
      "grid_gap": null,
      "grid_row": null,
      "grid_template_areas": null,
      "grid_template_columns": null,
      "grid_template_rows": null,
      "height": null,
      "justify_content": null,
      "justify_items": null,
      "left": null,
      "margin": null,
      "max_height": null,
      "max_width": null,
      "min_height": null,
      "min_width": null,
      "object_fit": null,
      "object_position": null,
      "order": null,
      "overflow": null,
      "overflow_x": null,
      "overflow_y": null,
      "padding": null,
      "right": null,
      "top": null,
      "visibility": null,
      "width": null
     }
    },
    "a131a9215e884eaf95793d06dba55bc1": {
     "model_module": "@jupyter-widgets/controls",
     "model_module_version": "1.5.0",
     "model_name": "ProgressStyleModel",
     "state": {
      "_model_module": "@jupyter-widgets/controls",
      "_model_module_version": "1.5.0",
      "_model_name": "ProgressStyleModel",
      "_view_count": null,
      "_view_module": "@jupyter-widgets/base",
      "_view_module_version": "1.2.0",
      "_view_name": "StyleView",
      "bar_color": null,
      "description_width": ""
     }
    },
    "a9d156991bc04cfd935a07f45720f5c4": {
     "model_module": "@jupyter-widgets/controls",
     "model_module_version": "1.5.0",
     "model_name": "DescriptionStyleModel",
     "state": {
      "_model_module": "@jupyter-widgets/controls",
      "_model_module_version": "1.5.0",
      "_model_name": "DescriptionStyleModel",
      "_view_count": null,
      "_view_module": "@jupyter-widgets/base",
      "_view_module_version": "1.2.0",
      "_view_name": "StyleView",
      "description_width": ""
     }
    },
    "b1e290d058e14f2888e4ef53fc2f107f": {
     "model_module": "@jupyter-widgets/controls",
     "model_module_version": "1.5.0",
     "model_name": "HBoxModel",
     "state": {
      "_dom_classes": [],
      "_model_module": "@jupyter-widgets/controls",
      "_model_module_version": "1.5.0",
      "_model_name": "HBoxModel",
      "_view_count": null,
      "_view_module": "@jupyter-widgets/controls",
      "_view_module_version": "1.5.0",
      "_view_name": "HBoxView",
      "box_style": "",
      "children": [
       "IPY_MODEL_6ff05f8bddb54c63ba652d3f21d5f1f4",
       "IPY_MODEL_716b4dae840a4e8bbc37cdde1743e1d6",
       "IPY_MODEL_c632d4a429d541b0ac4ea186354823d0"
      ],
      "layout": "IPY_MODEL_15eeb44e92fd454dabb4061db735f0cc"
     }
    },
    "c632d4a429d541b0ac4ea186354823d0": {
     "model_module": "@jupyter-widgets/controls",
     "model_module_version": "1.5.0",
     "model_name": "HTMLModel",
     "state": {
      "_dom_classes": [],
      "_model_module": "@jupyter-widgets/controls",
      "_model_module_version": "1.5.0",
      "_model_name": "HTMLModel",
      "_view_count": null,
      "_view_module": "@jupyter-widgets/controls",
      "_view_module_version": "1.5.0",
      "_view_name": "HTMLView",
      "description": "",
      "description_tooltip": null,
      "layout": "IPY_MODEL_4d77d4aaed204dc19b6ed2174e21496a",
      "placeholder": "​",
      "style": "IPY_MODEL_1d46acef6ecd4f8ca23eaae04e3f1cc0",
      "value": " 9/9 [00:01&lt;00:00,  2.45it/s]"
     }
    },
    "cc2f9c86e2d24a45a641007eae39bfb5": {
     "model_module": "@jupyter-widgets/base",
     "model_module_version": "1.2.0",
     "model_name": "LayoutModel",
     "state": {
      "_model_module": "@jupyter-widgets/base",
      "_model_module_version": "1.2.0",
      "_model_name": "LayoutModel",
      "_view_count": null,
      "_view_module": "@jupyter-widgets/base",
      "_view_module_version": "1.2.0",
      "_view_name": "LayoutView",
      "align_content": null,
      "align_items": null,
      "align_self": null,
      "border": null,
      "bottom": null,
      "display": null,
      "flex": null,
      "flex_flow": null,
      "grid_area": null,
      "grid_auto_columns": null,
      "grid_auto_flow": null,
      "grid_auto_rows": null,
      "grid_column": null,
      "grid_gap": null,
      "grid_row": null,
      "grid_template_areas": null,
      "grid_template_columns": null,
      "grid_template_rows": null,
      "height": null,
      "justify_content": null,
      "justify_items": null,
      "left": null,
      "margin": null,
      "max_height": null,
      "max_width": null,
      "min_height": null,
      "min_width": null,
      "object_fit": null,
      "object_position": null,
      "order": null,
      "overflow": null,
      "overflow_x": null,
      "overflow_y": null,
      "padding": null,
      "right": null,
      "top": null,
      "visibility": null,
      "width": null
     }
    }
   }
  }
 },
 "nbformat": 4,
 "nbformat_minor": 0
}
